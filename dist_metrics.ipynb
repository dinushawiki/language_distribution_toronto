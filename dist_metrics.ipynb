{
 "cells": [
  {
   "cell_type": "code",
   "execution_count": 56,
   "metadata": {},
   "outputs": [],
   "source": [
    "import pandas as pd\n",
    "import numpy as np"
   ]
  },
  {
   "cell_type": "code",
   "execution_count": 49,
   "metadata": {},
   "outputs": [],
   "source": [
    "df_1991 = pd.read_csv(\"Language_1991.csv\")\n",
    "df_1996 = pd.read_csv(\"Language_1996.csv\")\n",
    "df_2001 = pd.read_csv(\"Language_2001.csv\")\n",
    "df_2006 = pd.read_csv(\"Language_2006.csv\")\n",
    "df_2011 = pd.read_csv(\"Language_2011.csv\")\n",
    "df_2016 = pd.read_csv(\"Language_2016.csv\")"
   ]
  },
  {
   "cell_type": "code",
   "execution_count": 58,
   "metadata": {},
   "outputs": [],
   "source": [
    "df_1991 = pd.read_csv(\"1991_noEng.csv\")\n",
    "df_1996 = pd.read_csv(\"1996_noEng.csv\")\n",
    "df_2001 = pd.read_csv(\"2001_noEng.csv\")\n",
    "df_2006 = pd.read_csv(\"2006_noEng.csv\")\n",
    "df_2011 = pd.read_csv(\"2011_noEng.csv\")\n",
    "df_2016 = pd.read_csv(\"2016_noEng.csv\")"
   ]
  },
  {
   "cell_type": "code",
   "execution_count": 59,
   "metadata": {},
   "outputs": [],
   "source": [
    "df_2016 = df_2016[df_2016.Count != 'x']\n",
    "df_2016['Count'] = df_2016['Count'].astype(int)"
   ]
  },
  {
   "cell_type": "code",
   "execution_count": 60,
   "metadata": {},
   "outputs": [],
   "source": [
    "def create_metrics(df):\n",
    "    df = df[df.Count != 0]\n",
    "    mean_df = df.groupby('FSA', as_index=False)['Count'].mean()\n",
    "    mean_df.columns = ['FSA','Mean']\n",
    "    \n",
    "    std= df.groupby(['FSA','Year'], as_index=False).agg(np.std, ddof=0)\n",
    "    std_df = std[['FSA','Count','Year']]\n",
    "    std_df.columns = ['FSA','Std','Year']\n",
    "    \n",
    "    merged = pd.merge(mean_df, std_df, on='FSA')\n",
    "    merged['dist'] = merged['Std']/merged['Mean']\n",
    "    return merged"
   ]
  },
  {
   "cell_type": "code",
   "execution_count": 61,
   "metadata": {},
   "outputs": [],
   "source": [
    "df_1991_metrics = create_metrics(df_1991)\n",
    "df_1996_metrics = create_metrics(df_1996)\n",
    "df_2001_metrics = create_metrics(df_2001)\n",
    "df_2006_metrics = create_metrics(df_2006)\n",
    "df_2011_metrics = create_metrics(df_2011)\n",
    "df_2016_metrics = create_metrics(df_2016)"
   ]
  },
  {
   "cell_type": "code",
   "execution_count": 62,
   "metadata": {},
   "outputs": [],
   "source": [
    "frames = [df_1991_metrics, df_1996_metrics,df_2001_metrics,df_2006_metrics,df_2011_metrics,df_2016_metrics]\n",
    "result = pd.concat(frames)"
   ]
  },
  {
   "cell_type": "code",
   "execution_count": 63,
   "metadata": {},
   "outputs": [
    {
     "data": {
      "text/html": [
       "<div>\n",
       "<style scoped>\n",
       "    .dataframe tbody tr th:only-of-type {\n",
       "        vertical-align: middle;\n",
       "    }\n",
       "\n",
       "    .dataframe tbody tr th {\n",
       "        vertical-align: top;\n",
       "    }\n",
       "\n",
       "    .dataframe thead th {\n",
       "        text-align: right;\n",
       "    }\n",
       "</style>\n",
       "<table border=\"1\" class=\"dataframe\">\n",
       "  <thead>\n",
       "    <tr style=\"text-align: right;\">\n",
       "      <th></th>\n",
       "      <th>FSA</th>\n",
       "      <th>Mean</th>\n",
       "      <th>Std</th>\n",
       "      <th>Year</th>\n",
       "      <th>dist</th>\n",
       "    </tr>\n",
       "  </thead>\n",
       "  <tbody>\n",
       "    <tr>\n",
       "      <th>90</th>\n",
       "      <td>M9N</td>\n",
       "      <td>157.052632</td>\n",
       "      <td>397.618896</td>\n",
       "      <td>2016</td>\n",
       "      <td>2.531756</td>\n",
       "    </tr>\n",
       "    <tr>\n",
       "      <th>91</th>\n",
       "      <td>M9P</td>\n",
       "      <td>153.877551</td>\n",
       "      <td>447.071840</td>\n",
       "      <td>2016</td>\n",
       "      <td>2.905374</td>\n",
       "    </tr>\n",
       "    <tr>\n",
       "      <th>92</th>\n",
       "      <td>M9R</td>\n",
       "      <td>253.379630</td>\n",
       "      <td>645.374507</td>\n",
       "      <td>2016</td>\n",
       "      <td>2.547065</td>\n",
       "    </tr>\n",
       "    <tr>\n",
       "      <th>93</th>\n",
       "      <td>M9V</td>\n",
       "      <td>560.964912</td>\n",
       "      <td>1643.601479</td>\n",
       "      <td>2016</td>\n",
       "      <td>2.929954</td>\n",
       "    </tr>\n",
       "    <tr>\n",
       "      <th>94</th>\n",
       "      <td>M9W</td>\n",
       "      <td>344.951923</td>\n",
       "      <td>1005.296190</td>\n",
       "      <td>2016</td>\n",
       "      <td>2.914308</td>\n",
       "    </tr>\n",
       "  </tbody>\n",
       "</table>\n",
       "</div>"
      ],
      "text/plain": [
       "    FSA        Mean          Std  Year      dist\n",
       "90  M9N  157.052632   397.618896  2016  2.531756\n",
       "91  M9P  153.877551   447.071840  2016  2.905374\n",
       "92  M9R  253.379630   645.374507  2016  2.547065\n",
       "93  M9V  560.964912  1643.601479  2016  2.929954\n",
       "94  M9W  344.951923  1005.296190  2016  2.914308"
      ]
     },
     "execution_count": 63,
     "metadata": {},
     "output_type": "execute_result"
    }
   ],
   "source": [
    "result.tail(5)"
   ]
  },
  {
   "cell_type": "code",
   "execution_count": 64,
   "metadata": {},
   "outputs": [],
   "source": [
    "result.to_csv('dist_languages_noMain.csv')"
   ]
  },
  {
   "cell_type": "code",
   "execution_count": null,
   "metadata": {},
   "outputs": [],
   "source": []
  }
 ],
 "metadata": {
  "kernelspec": {
   "display_name": "Python 3",
   "language": "python",
   "name": "python3"
  },
  "language_info": {
   "codemirror_mode": {
    "name": "ipython",
    "version": 3
   },
   "file_extension": ".py",
   "mimetype": "text/x-python",
   "name": "python",
   "nbconvert_exporter": "python",
   "pygments_lexer": "ipython3",
   "version": "3.7.0"
  }
 },
 "nbformat": 4,
 "nbformat_minor": 2
}
